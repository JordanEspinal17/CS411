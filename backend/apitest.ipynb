{
  "nbformat": 4,
  "nbformat_minor": 0,
  "metadata": {
    "colab": {
      "provenance": []
    },
    "kernelspec": {
      "name": "python3",
      "display_name": "Python 3"
    },
    "language_info": {
      "name": "python"
    }
  },
  "cells": [
    {
      "cell_type": "markdown",
      "source": [
        "Intalling Cinemagoer (IMDbPY)"
      ],
      "metadata": {
        "id": "i3WaJKP4-A3H"
      }
    },
    {
      "cell_type": "code",
      "source": [
        "pip install spotipy --upgrade\n"
      ],
      "metadata": {
        "colab": {
          "base_uri": "https://localhost:8080/"
        },
        "id": "lX_qxswtVacc",
        "outputId": "13e63d3d-9baf-41fd-e216-291f7f39472b"
      },
      "execution_count": null,
      "outputs": [
        {
          "output_type": "stream",
          "name": "stdout",
          "text": [
            "Collecting spotipy\n",
            "  Downloading spotipy-2.23.0-py3-none-any.whl (29 kB)\n",
            "Collecting redis>=3.5.3 (from spotipy)\n",
            "  Downloading redis-5.0.1-py3-none-any.whl (250 kB)\n",
            "\u001b[2K     \u001b[90m━━━━━━━━━━━━━━━━━━━━━━━━━━━━━━━━━━━━━━━━\u001b[0m \u001b[32m250.3/250.3 kB\u001b[0m \u001b[31m9.0 MB/s\u001b[0m eta \u001b[36m0:00:00\u001b[0m\n",
            "\u001b[?25hRequirement already satisfied: requests>=2.25.0 in /usr/local/lib/python3.10/dist-packages (from spotipy) (2.31.0)\n",
            "Requirement already satisfied: six>=1.15.0 in /usr/local/lib/python3.10/dist-packages (from spotipy) (1.16.0)\n",
            "Requirement already satisfied: urllib3>=1.26.0 in /usr/local/lib/python3.10/dist-packages (from spotipy) (2.0.7)\n",
            "Requirement already satisfied: async-timeout>=4.0.2 in /usr/local/lib/python3.10/dist-packages (from redis>=3.5.3->spotipy) (4.0.3)\n",
            "Requirement already satisfied: charset-normalizer<4,>=2 in /usr/local/lib/python3.10/dist-packages (from requests>=2.25.0->spotipy) (3.3.1)\n",
            "Requirement already satisfied: idna<4,>=2.5 in /usr/local/lib/python3.10/dist-packages (from requests>=2.25.0->spotipy) (3.4)\n",
            "Requirement already satisfied: certifi>=2017.4.17 in /usr/local/lib/python3.10/dist-packages (from requests>=2.25.0->spotipy) (2023.7.22)\n",
            "Installing collected packages: redis, spotipy\n",
            "Successfully installed redis-5.0.1 spotipy-2.23.0\n"
          ]
        }
      ]
    },
    {
      "cell_type": "code",
      "execution_count": 1,
      "metadata": {
        "colab": {
          "base_uri": "https://localhost:8080/"
        },
        "id": "zjVlXKLu97t9",
        "outputId": "1c7a367a-e258-4aea-9a48-eea97281b70f"
      },
      "outputs": [
        {
          "output_type": "stream",
          "name": "stdout",
          "text": [
            "Enter movie titles separated by commas: barbie\n",
            "['Adventure', 'Comedy', 'Fantasy']\n"
          ]
        }
      ],
      "source": [
        "import requests\n",
        "test = []\n",
        "\n",
        "def get_movie_details(api_key, search_query):\n",
        "    search_url = f'https://api.themoviedb.org/3/search/movie'\n",
        "\n",
        "    genres_url = f'https://api.themoviedb.org/3/genre/movie/list?api_key={api_key}'\n",
        "\n",
        "    try:\n",
        "        # Make a GET request to the TMDb API for movie search\n",
        "        response = requests.get(search_url, params={'api_key': api_key, 'query': search_query})\n",
        "\n",
        "        # Check if the request was successful (status code 200)\n",
        "        if response.status_code == 200:\n",
        "            data = response.json()\n",
        "\n",
        "            # Extract information\n",
        "            results = data['results']\n",
        "            if results:\n",
        "                first_result = results[0]\n",
        "                movie_details = {\n",
        "                    'title': first_result['title'],\n",
        "                    'overview': first_result['overview'],\n",
        "                    'release_date': first_result['release_date'],\n",
        "                }\n",
        "\n",
        "                # Get the genre names instead of IDs\n",
        "                genre_ids = first_result['genre_ids']\n",
        "                genres_response = requests.get(genres_url)\n",
        "                genres_data = genres_response.json()\n",
        "                genre_names = [genre['name'] for genre in genres_data['genres'] if genre['id'] in genre_ids]\n",
        "                movie_details['genres'] = genre_names\n",
        "\n",
        "                return movie_details['genres']\n",
        "            else:\n",
        "                return f\"No results found for the movie title: {search_query}\"\n",
        "        else:\n",
        "            return f\"Error: Unable to perform movie search. Status Code: {response.status_code}\"\n",
        "\n",
        "    except requests.RequestException as e:\n",
        "        return f\"Error: {e}\"\n",
        "\n",
        "api_key = '8d13eb941850b40a5045c5a7a4058cc1'\n",
        "\n",
        "search_queries = input(\"Enter movie titles separated by commas: \").split(',')\n",
        "\n",
        "for search_query in search_queries:\n",
        "    result = get_movie_details(api_key, search_query)\n",
        "    test = result\n",
        "    print(test)\n"
      ]
    },
    {
      "cell_type": "code",
      "source": [],
      "metadata": {
        "id": "J7fE7YJDVFc5"
      },
      "execution_count": null,
      "outputs": []
    }
  ]
}